{
 "cells": [
  {
   "cell_type": "code",
   "execution_count": 1,
   "metadata": {},
   "outputs": [],
   "source": [
    "from faker_lib import EmployeeFactory\n",
    "import pandas as pd\n",
    "import swifter\n",
    "\n",
    "df_one = pd.read_csv(open(\"../../here.csv\"))\n",
    "\n",
    "df_two = pd.read_csv(open(\"../../here.csv\"))\n",
    "\n",
    "df_three = pd.read_csv(open(\"../../here.csv\"))\n",
    "efac = EmployeeFactory()\n",
    "REQUIRED_INDICES = [\"name\",\"email\",\"company\",\"app_endpoint\",\"app_ip\",\"manager\",\"department\"]"
   ]
  },
  {
   "cell_type": "code",
   "execution_count": 2,
   "metadata": {},
   "outputs": [
    {
     "name": "stdout",
     "output_type": "stream",
     "text": [
      "202 ms ± 2.94 ms per loop (mean ± std. dev. of 7 runs, 1 loop each)\n"
     ]
    }
   ],
   "source": [
    "%%timeit\n",
    "def create_employee_from_row(row, efac: EmployeeFactory):\n",
    "    try:\n",
    "        return efac.create_employee(row.to_dict())\n",
    "    except Exception:\n",
    "        print(row.to_dict())\n",
    "s = df_one.swifter.progress_bar(False).apply(lambda x: create_employee_from_row(x, efac), axis=1)\n",
    "new_df = pd.DataFrame(s.to_list())"
   ]
  },
  {
   "cell_type": "code",
   "execution_count": 6,
   "metadata": {},
   "outputs": [
    {
     "name": "stdout",
     "output_type": "stream",
     "text": [
      "88.6 ms ± 5.67 ms per loop (mean ± std. dev. of 7 runs, 10 loops each)\n"
     ]
    }
   ],
   "source": [
    "%%timeit\n",
    "def create_employee_from_row2(row):\n",
    "    if row[\"department\"] == \"Avax\":\n",
    "        if row[\"name\"][1].upper() in \"AEIOU\":\n",
    "            return \"A\"\n",
    "        else:\n",
    "            return \"B\"\n",
    "    elif row[\"department\"] == \"Lending\":\n",
    "        if row[\"name\"][0] in \"AEIOU\":\n",
    "            return \"A\"\n",
    "        else:\n",
    "            return \"B\"\n",
    "\n",
    "df_two[\"area\"] = df_two.swifter.progress_bar(False).apply(create_employee_from_row2, axis=1)\n"
   ]
  },
  {
   "cell_type": "code",
   "execution_count": 4,
   "metadata": {},
   "outputs": [
    {
     "name": "stdout",
     "output_type": "stream",
     "text": [
      "22.3 ms ± 1.39 ms per loop (mean ± std. dev. of 7 runs, 10 loops each)\n"
     ]
    }
   ],
   "source": [
    "%%timeit\n",
    "# process avax\n",
    "mask = (df_three[\"department\"] == \"Avax\") & (df_three[\"name\"].str.upper().str[1].isin(list(\"AEIOU\")))\n",
    "df_three.loc[mask, \"area\"] = \"A\"\n",
    "\n",
    "mask = (df_three[\"department\"] == \"Avax\") & (~df_three[\"name\"].str.upper().str[1].isin(list(\"AEIOU\")))\n",
    "df_three.loc[mask,\"area\"] = \"B\"\n",
    "\n",
    "#process lending\n",
    "mask = (df_three[\"department\"] == \"Lending\") & (df_three[\"name\"].str.upper().str[0].isin(list(\"AEIOU\")))\n",
    "df_three.loc[mask, \"area\"] = \"A\"\n",
    "\n",
    "mask = (df_three[\"department\"] == \"Lending\") & (~df_three[\"name\"].str.upper().str[0].isin(list(\"AEIOU\")))\n",
    "df_three.loc[mask,\"area\"] = \"B\""
   ]
  }
 ],
 "metadata": {
  "kernelspec": {
   "display_name": "Python 3.9.7 ('hawitsu')",
   "language": "python",
   "name": "python3"
  },
  "language_info": {
   "codemirror_mode": {
    "name": "ipython",
    "version": 3
   },
   "file_extension": ".py",
   "mimetype": "text/x-python",
   "name": "python",
   "nbconvert_exporter": "python",
   "pygments_lexer": "ipython3",
   "version": "3.9.7"
  },
  "orig_nbformat": 4,
  "vscode": {
   "interpreter": {
    "hash": "1555911fe2cd1734b184d042b37973b50beacdcdca090548d8f8b54c198684cd"
   }
  }
 },
 "nbformat": 4,
 "nbformat_minor": 2
}
